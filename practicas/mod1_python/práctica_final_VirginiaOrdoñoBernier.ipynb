{
 "cells": [
  {
   "cell_type": "code",
   "execution_count": 1,
   "metadata": {},
   "outputs": [],
   "source": [
    "import pandas as pd"
   ]
  },
  {
   "cell_type": "markdown",
   "metadata": {},
   "source": [
    "Cargar datos"
   ]
  },
  {
   "cell_type": "code",
   "execution_count": 2,
   "metadata": {},
   "outputs": [
    {
     "name": "stdout",
     "output_type": "stream",
     "text": [
      "       #                   Name   Type 1  Type 2  Total  HP  Attack  Defense  \\\n",
      "0      1              Bulbasaur    Grass  Poison    318  45      49       49   \n",
      "1      2                Ivysaur    Grass  Poison    405  60      62       63   \n",
      "2      3               Venusaur    Grass  Poison    525  80      82       83   \n",
      "3      3  VenusaurMega Venusaur    Grass  Poison    625  80     100      123   \n",
      "4      4             Charmander     Fire     NaN    309  39      52       43   \n",
      "..   ...                    ...      ...     ...    ...  ..     ...      ...   \n",
      "795  719                Diancie     Rock   Fairy    600  50     100      150   \n",
      "796  719    DiancieMega Diancie     Rock   Fairy    700  50     160      110   \n",
      "797  720    HoopaHoopa Confined  Psychic   Ghost    600  80     110       60   \n",
      "798  720     HoopaHoopa Unbound  Psychic    Dark    680  80     160       60   \n",
      "799  721              Volcanion     Fire   Water    600  80     110      120   \n",
      "\n",
      "     Sp. Atk  Sp. Def  Speed  Generation  Legendary  \n",
      "0         65       65     45           1      False  \n",
      "1         80       80     60           1      False  \n",
      "2        100      100     80           1      False  \n",
      "3        122      120     80           1      False  \n",
      "4         60       50     65           1      False  \n",
      "..       ...      ...    ...         ...        ...  \n",
      "795      100      150     50           6       True  \n",
      "796      160      110    110           6       True  \n",
      "797      150      130     70           6       True  \n",
      "798      170      130     80           6       True  \n",
      "799      130       90     70           6       True  \n",
      "\n",
      "[800 rows x 13 columns]\n"
     ]
    }
   ],
   "source": [
    "# Importamos el dataset de los datos de los pokemon\n",
    "myDataset = pd.read_csv('dataset_final.csv')\n",
    "print(myDataset)"
   ]
  },
  {
   "cell_type": "code",
   "execution_count": 3,
   "metadata": {},
   "outputs": [
    {
     "name": "stdout",
     "output_type": "stream",
     "text": [
      "Total Pokemons: 800\n"
     ]
    }
   ],
   "source": [
    "'''\n",
    "1. ¿Cuántos pokémon hay en el dataset?\n",
    "'''\n",
    "print('Total Pokemons:', len(myDataset))\n"
   ]
  },
  {
   "cell_type": "code",
   "execution_count": 7,
   "metadata": {},
   "outputs": [
    {
     "name": "stdout",
     "output_type": "stream",
     "text": [
      "Pokemons tipo Poison: 28\n",
      "0      False\n",
      "1      False\n",
      "2      False\n",
      "3      False\n",
      "4      False\n",
      "       ...  \n",
      "795    False\n",
      "796    False\n",
      "797    False\n",
      "798    False\n",
      "799    False\n",
      "Name: Type 1, Length: 800, dtype: bool\n"
     ]
    }
   ],
   "source": [
    "'''\n",
    "2. ¿Cuántos pokémon hay de tipo Poison? (Type 1)\n",
    "'''\n",
    "print('Pokemons tipo Poison:', len(myDataset[myDataset['Type 1'] == 'Poison']))"
   ]
  },
  {
   "cell_type": "code",
   "execution_count": 7,
   "metadata": {},
   "outputs": [
    {
     "name": "stdout",
     "output_type": "stream",
     "text": [
      "Tipos diferentes de Pokemons: 18\n",
      "Tipos: Grass, Fire, Water, Bug, Normal, Poison, Electric, Ground, Fairy, Fighting, Psychic, Rock, Ghost, Ice, Dragon, Dark, Steel, Flying\n"
     ]
    }
   ],
   "source": [
    "'''\n",
    "3. ¿Cuántos tipos diferentes de pokémon hay? (Type 1)\n",
    "'''\n",
    "print('Tipos diferentes de Pokemons:', len(myDataset['Type 1'].unique()))\n",
    "print('Tipos:', \", \".join(myDataset['Type 1'].unique()))"
   ]
  },
  {
   "cell_type": "code",
   "execution_count": 8,
   "metadata": {},
   "outputs": [
    {
     "name": "stdout",
     "output_type": "stream",
     "text": [
      "Pokemons por tipo:\n",
      " Water       112\n",
      "Normal       98\n",
      "Grass        70\n",
      "Bug          69\n",
      "Psychic      57\n",
      "Fire         52\n",
      "Electric     44\n",
      "Rock         44\n",
      "Dragon       32\n",
      "Ground       32\n",
      "Ghost        32\n",
      "Dark         31\n",
      "Poison       28\n",
      "Steel        27\n",
      "Fighting     27\n",
      "Ice          24\n",
      "Fairy        17\n",
      "Flying        4\n",
      "Name: Type 1, dtype: int64\n",
      "\n",
      "Tipo con más Pokemons: Water con 112 Pokemons\n"
     ]
    }
   ],
   "source": [
    "'''\n",
    "2. ¿Cuántos pokémon hay de cada tipo? (Type 1)\n",
    "'''\n",
    "print('Pokemons por tipo:\\n', myDataset['Type 1'].value_counts())\n",
    "\n",
    "\n",
    "'''\n",
    "2.1 ¿cual es el tipo de pokémon con más pokémon? (Type 1)\n",
    "'''\n",
    "print('\\nTipo con más Pokemons:', myDataset['Type 1'].value_counts().idxmax(), \"con\", myDataset['Type 1'].value_counts().max(), \"Pokemons\")"
   ]
  },
  {
   "cell_type": "code",
   "execution_count": 9,
   "metadata": {},
   "outputs": [
    {
     "name": "stdout",
     "output_type": "stream",
     "text": [
      "Pokemon más rápido: DeoxysSpeed Forme con velocidad 180\n"
     ]
    }
   ],
   "source": [
    "'''\n",
    "3. ¿Cuál es el pokémon más rápido?\n",
    "'''\n",
    "print(\"Pokemon más rápido:\", myDataset[myDataset['Speed'] == myDataset['Speed'].max()]['Name'].values[0], \"con velocidad\", myDataset[myDataset['Speed'] == myDataset['Speed'].max()]['Speed'].values[0])\n"
   ]
  },
  {
   "cell_type": "code",
   "execution_count": 10,
   "metadata": {},
   "outputs": [
    {
     "name": "stdout",
     "output_type": "stream",
     "text": [
      "Defensa superior a 100: 123 pokemons.\n",
      "Defensa superior a 100: 123 pokemons.\n"
     ]
    }
   ],
   "source": [
    "'''\n",
    "4. ¿Cuántos pokemon tiene una defensa superior a 100? \n",
    "'''\n",
    "print('Defensa superior a 100:', len(myDataset[myDataset['Defense'] > 100]), \"pokemons.\")\n",
    "\n",
    "'''\n",
    "4.1 ¿Cuántos pokemon tiene una defensa superior a 100? \n",
    "'''\n",
    "print('Defensa superior a 100:', len(myDataset[myDataset['Defense'] > 100]), \"pokemons.\")\n"
   ]
  },
  {
   "cell_type": "code",
   "execution_count": 11,
   "metadata": {},
   "outputs": [
    {
     "name": "stdout",
     "output_type": "stream",
     "text": [
      "Defensa superior a 100 y velocidad superior a 100: 9 pokemons.\n",
      "Lista de Pokemons: PinsirMega Pinsir, Lugia, SalamenceMega Salamence, MetagrossMega Metagross, LatiasMega Latias, Arceus, Durant, Cobalion, DiancieMega Diancie\n"
     ]
    }
   ],
   "source": [
    "'''\n",
    "5. ¿Cuántos pokemon tiene una defensa superior a 100 y una velocidad superior a 100?\n",
    "'''\n",
    "print('Defensa superior a 100 y velocidad superior a 100:', len(myDataset[(myDataset['Defense'] > 100) & (myDataset['Speed'] > 100)]), \"pokemons.\")\n",
    "print('Lista de Pokemons:', \", \".join(myDataset[(myDataset['Defense'] > 100) & (myDataset['Speed'] > 100)]['Name'].values))"
   ]
  },
  {
   "cell_type": "code",
   "execution_count": 12,
   "metadata": {},
   "outputs": [
    {
     "name": "stdout",
     "output_type": "stream",
     "text": [
      "       #                     Name Type 1    Type 2  Total   HP  Attack  \\\n",
      "656  595                   Joltik    Bug  Electric    319   50      47   \n",
      "657  596               Galvantula    Bug  Electric    472   70      77   \n",
      "231  214                Heracross    Bug  Fighting    500   80     125   \n",
      "232  214  HeracrossMega Heracross    Bug  Fighting    600   80     185   \n",
      "697  636                 Larvesta    Bug      Fire    360   55      85   \n",
      "..   ...                      ...    ...       ...    ...  ...     ...   \n",
      "655  594                Alomomola  Water       NaN    470  165      75   \n",
      "724  656                  Froakie  Water       NaN    314   41      56   \n",
      "725  657                Frogadier  Water       NaN    405   54      63   \n",
      "762  692                Clauncher  Water       NaN    330   50      53   \n",
      "763  693                Clawitzer  Water       NaN    500   71      73   \n",
      "\n",
      "     Defense  Sp. Atk  Sp. Def  Speed  Generation  Legendary  \n",
      "656       50       57       50     65           5      False  \n",
      "657       60       97       60    108           5      False  \n",
      "231       75       40       95     85           2      False  \n",
      "232      115       40      105     75           2      False  \n",
      "697       55       50       55     60           5      False  \n",
      "..       ...      ...      ...    ...         ...        ...  \n",
      "655       80       40       45     65           5      False  \n",
      "724       40       62       44     71           6      False  \n",
      "725       52       83       56     97           6      False  \n",
      "762       62       58       63     44           6      False  \n",
      "763       88      120       89     59           6      False  \n",
      "\n",
      "[800 rows x 13 columns]\n"
     ]
    }
   ],
   "source": [
    "'''\n",
    "6. Ordena el dataset por el tipo 1 y por el tipo 2\n",
    "'''\n",
    "print(myDataset.sort_values(by=['Type 1', 'Type 2']))\n"
   ]
  },
  {
   "cell_type": "code",
   "execution_count": 13,
   "metadata": {},
   "outputs": [
    {
     "name": "stdout",
     "output_type": "stream",
     "text": [
      "       #                       Name Type 1  Type 2  Total  HP  Attack  \\\n",
      "4      4                 Charmander   Fire     NaN    309  39      52   \n",
      "5      5                 Charmeleon   Fire     NaN    405  58      64   \n",
      "6      6                  Charizard   Fire  Flying    534  78      84   \n",
      "7      6  CharizardMega Charizard X   Fire  Dragon    634  78     130   \n",
      "8      6  CharizardMega Charizard Y   Fire  Flying    634  78     104   \n",
      "..   ...                        ...    ...     ...    ...  ..     ...   \n",
      "735  667                     Litleo   Fire  Normal    369  62      50   \n",
      "736  668                     Pyroar   Fire  Normal    507  86      68   \n",
      "762  692                  Clauncher  Water     NaN    330  50      53   \n",
      "763  693                  Clawitzer  Water     NaN    500  71      73   \n",
      "799  721                  Volcanion   Fire   Water    600  80     110   \n",
      "\n",
      "     Defense  Sp. Atk  Sp. Def  Speed  Generation  Legendary  \n",
      "4         43       60       50     65           1      False  \n",
      "5         58       80       65     80           1      False  \n",
      "6         78      109       85    100           1      False  \n",
      "7        111      130       85    100           1      False  \n",
      "8         78      159      115    100           1      False  \n",
      "..       ...      ...      ...    ...         ...        ...  \n",
      "735       58       73       54     72           6      False  \n",
      "736       72      109       66    106           6      False  \n",
      "762       62       58       63     44           6      False  \n",
      "763       88      120       89     59           6      False  \n",
      "799      120      130       90     70           6       True  \n",
      "\n",
      "[164 rows x 13 columns]\n"
     ]
    }
   ],
   "source": [
    "'''\n",
    "7. Crea un nuevo dataset con los pokémon de tipo Water y Fire como primer tipo\n",
    "'''\n",
    "myDataset2 = myDataset[(myDataset['Type 1'] == 'Water') | (myDataset['Type 1'] == 'Fire')]\n",
    "print(myDataset2)"
   ]
  },
  {
   "cell_type": "code",
   "execution_count": 14,
   "metadata": {},
   "outputs": [
    {
     "name": "stdout",
     "output_type": "stream",
     "text": [
      "       #                 Name    Type 1    Type 2  Total   HP  Attack  \\\n",
      "156  144             Articuno       Ice    Flying    580   90      85   \n",
      "157  145               Zapdos  Electric    Flying    580   90      90   \n",
      "158  146              Moltres      Fire    Flying    580   90     100   \n",
      "162  150               Mewtwo   Psychic       NaN    680  106     110   \n",
      "163  150  MewtwoMega Mewtwo X   Psychic  Fighting    780  106     190   \n",
      "..   ...                  ...       ...       ...    ...  ...     ...   \n",
      "795  719              Diancie      Rock     Fairy    600   50     100   \n",
      "796  719  DiancieMega Diancie      Rock     Fairy    700   50     160   \n",
      "797  720  HoopaHoopa Confined   Psychic     Ghost    600   80     110   \n",
      "798  720   HoopaHoopa Unbound   Psychic      Dark    680   80     160   \n",
      "799  721            Volcanion      Fire     Water    600   80     110   \n",
      "\n",
      "     Defense  Sp. Atk  Sp. Def  Speed  Generation  Legendary  \n",
      "156      100       95      125     85           1       True  \n",
      "157       85      125       90    100           1       True  \n",
      "158       90      125       85     90           1       True  \n",
      "162       90      154       90    130           1       True  \n",
      "163      100      154      100    130           1       True  \n",
      "..       ...      ...      ...    ...         ...        ...  \n",
      "795      150      100      150     50           6       True  \n",
      "796      110      160      110    110           6       True  \n",
      "797       60      150      130     70           6       True  \n",
      "798       60      170      130     80           6       True  \n",
      "799      120      130       90     70           6       True  \n",
      "\n",
      "[65 rows x 13 columns]\n"
     ]
    }
   ],
   "source": [
    "'''\n",
    "8. Crea un nuevo dataset con los pokemon Legendary\n",
    "'''\n",
    "myDataset3 = myDataset[myDataset['Legendary'] == True]\n",
    "print(myDataset3)"
   ]
  },
  {
   "cell_type": "code",
   "execution_count": 15,
   "metadata": {},
   "outputs": [
    {
     "name": "stdout",
     "output_type": "stream",
     "text": [
      "Promedio de stats de los pokemon Legendary:\n",
      " HP          92.738462\n",
      "Attack     116.676923\n",
      "Defense     99.661538\n",
      "Sp. Atk    122.184615\n",
      "Sp. Def    105.938462\n",
      "Speed      100.184615\n",
      "dtype: float64\n",
      "\n",
      "Promedio de stats de los pokemon no Legendary:\n",
      " HP         67.182313\n",
      "Attack     75.669388\n",
      "Defense    71.559184\n",
      "Sp. Atk    68.454422\n",
      "Sp. Def    68.892517\n",
      "Speed      65.455782\n",
      "dtype: float64\n"
     ]
    }
   ],
   "source": [
    "'''\n",
    "9. Calcula el promedio de stats de los pokemon Legendary (HP, Attack, Defense, Sp. Atk, Sp. Def, Speed) y los no Legendary\n",
    "'''\n",
    "print('Promedio de stats de los pokemon Legendary:\\n', myDataset.loc[myDataset['Legendary'] == True, ['HP', 'Attack', 'Defense', 'Sp. Atk', 'Sp. Def', 'Speed']].mean())\n",
    "print('\\nPromedio de stats de los pokemon no Legendary:\\n', myDataset.loc[myDataset['Legendary'] == False, ['HP', 'Attack', 'Defense', 'Sp. Atk', 'Sp. Def', 'Speed']].mean())"
   ]
  },
  {
   "cell_type": "code",
   "execution_count": 16,
   "metadata": {},
   "outputs": [
    {
     "name": "stdout",
     "output_type": "stream",
     "text": [
      "                     HP      Attack    Defense     Sp. Atk     Sp. Def  \\\n",
      "Legendary     92.738462  116.676923  99.661538  122.184615  105.938462   \n",
      "No Legendary  67.182313   75.669388  71.559184   68.454422   68.892517   \n",
      "\n",
      "                   Speed  \n",
      "Legendary     100.184615  \n",
      "No Legendary   65.455782  \n"
     ]
    }
   ],
   "source": [
    "'''\n",
    "10. Crea un nuevo dataframe con el resultado del anterior ejercicio comparando ambos promedios\n",
    "\n",
    "ejemplo:\n",
    "                HP  Attack  Defense  Sp. Atk  Sp. Def  Speed\n",
    "Legendary       99      90       89       91       94     90\n",
    "No Legendary    80      95       75       12       43     87\n",
    "\n",
    "'''\n",
    "legendary = myDataset.loc[myDataset['Legendary'] == True, ['HP', 'Attack', 'Defense', 'Sp. Atk', 'Sp. Def', 'Speed']].mean()\n",
    "noLegendary = myDataset.loc[myDataset['Legendary'] == False, ['HP', 'Attack', 'Defense', 'Sp. Atk', 'Sp. Def', 'Speed']].mean()\n",
    "print(pd.DataFrame([legendary, noLegendary], index=['Legendary', 'No Legendary']))"
   ]
  },
  {
   "cell_type": "code",
   "execution_count": 17,
   "metadata": {},
   "outputs": [
    {
     "name": "stdout",
     "output_type": "stream",
     "text": [
      "       #                   Name   Type 1  Type 2  Total  HP  Attack  Defense  \\\n",
      "0      1              Bulbasaur    Grass  Poison    318  45      49       49   \n",
      "1      2                Ivysaur    Grass  Poison    405  60      62       63   \n",
      "2      3               Venusaur    Grass  Poison    525  80      82       83   \n",
      "3      3  VenusaurMega Venusaur    Grass  Poison    625  80     100      123   \n",
      "4      4             Charmander     Fire     NaN    309  39      52       43   \n",
      "..   ...                    ...      ...     ...    ...  ..     ...      ...   \n",
      "795  719                Diancie     Rock   Fairy    600  50     100      150   \n",
      "796  719    DiancieMega Diancie     Rock   Fairy    700  50     160      110   \n",
      "797  720    HoopaHoopa Confined  Psychic   Ghost    600  80     110       60   \n",
      "798  720     HoopaHoopa Unbound  Psychic    Dark    680  80     160       60   \n",
      "799  721              Volcanion     Fire   Water    600  80     110      120   \n",
      "\n",
      "     Sp. Atk  Sp. Def  Speed  Generation  Legendary  Doble tipo  \n",
      "0         65       65     45           1      False        True  \n",
      "1         80       80     60           1      False        True  \n",
      "2        100      100     80           1      False        True  \n",
      "3        122      120     80           1      False        True  \n",
      "4         60       50     65           1      False       False  \n",
      "..       ...      ...    ...         ...        ...         ...  \n",
      "795      100      150     50           6       True        True  \n",
      "796      160      110    110           6       True        True  \n",
      "797      150      130     70           6       True        True  \n",
      "798      170      130     80           6       True        True  \n",
      "799      130       90     70           6       True        True  \n",
      "\n",
      "[800 rows x 14 columns]\n"
     ]
    }
   ],
   "source": [
    "'''\n",
    "11. Añade una nueva colunma ['Doble tipo'] al dataframe inicial que inndique si el pokemo tiene dos tipos o no\n",
    "'''\n",
    "myDataset['Doble tipo'] = myDataset['Type 2'].notnull()\n",
    "print(myDataset)\n"
   ]
  },
  {
   "cell_type": "code",
   "execution_count": 18,
   "metadata": {},
   "outputs": [
    {
     "name": "stdout",
     "output_type": "stream",
     "text": [
      "                        Name Type 1    Type 2\n",
      "657               Galvantula    Bug  Electric\n",
      "656                   Joltik    Bug  Electric\n",
      "231                Heracross    Bug  Fighting\n",
      "232  HeracrossMega Heracross    Bug  Fighting\n",
      "697                 Larvesta    Bug      Fire\n",
      "..                       ...    ...       ...\n",
      "626               Carracosta  Water      Rock\n",
      "240                  Corsola  Water      Rock\n",
      "404                Relicanth  Water      Rock\n",
      "625                 Tirtouga  Water      Rock\n",
      "440                 Empoleon  Water     Steel\n",
      "\n",
      "[414 rows x 3 columns]\n"
     ]
    }
   ],
   "source": [
    "'''\n",
    "12. Muestra las columas Name, Type 1, Type 2 de los pokémon que tienen dos tipos y ordenalos por Type 1 , Type 2 y Name\n",
    "'''\n",
    "print((myDataset.loc[myDataset['Doble tipo'] == True, ['Name', 'Type 1', 'Type 2']]).sort_values(by=['Type 1', 'Type 2', 'Name']))"
   ]
  },
  {
   "cell_type": "code",
   "execution_count": 19,
   "metadata": {},
   "outputs": [
    {
     "name": "stdout",
     "output_type": "stream",
     "text": [
      "Precio total: 155 €\n",
      "Precio total con 10% descuento: 139.5 €\n",
      "Precio total con descuento si supera los 100€: 139.5 €\n",
      "Precio total con IVA: 168.795 €\n",
      "Artículos cuyo precio es superior a 20€: Pantalón(30€), Gafas(25€), Corbata(40€)\n"
     ]
    }
   ],
   "source": [
    "from functools import reduce\n",
    "\n",
    "'''\n",
    "13. Dada una lista de Artículos con sus precio. Define las siguientes funciones:\n",
    "Puedes definir más funciones si lo consideras necesario.\n",
    "'''\n",
    "articulos = {\n",
    "    'Camisa': 20,\n",
    "    'Pantalón': 30,\n",
    "    'Calcetines': 5,\n",
    "    'Zapatos': 50,\n",
    "    'Gorra': 10,\n",
    "    'Bufanda': 15,\n",
    "    'Gafas': 25,\n",
    "    'Reloj': 35,\n",
    "    'Corbata': 40,\n",
    "}\n",
    "\n",
    "compra = ['Camisa', 'Pantalón', 'Pantalón', 'Gorra', 'Gafas', 'Corbata']\n",
    "\n",
    "# A. Una función que calcule el precio total de la compra\n",
    "def get_price(compra):\n",
    "    return reduce(lambda x, y: x + y, map(lambda x: articulos[x], compra))\n",
    "\n",
    "# B. Una función que calcule el precio total de la compra con un descuento del 10%\n",
    "def calculate_discount(compra):\n",
    "    return get_price(compra) - (get_price(compra) * 0.10)\n",
    "\n",
    "# C. Una función que calcule el precio total de la compra con un descuento del 10% si la compra supera los 100€\n",
    "def apply_discount(compra):\n",
    "    return calculate_discount(compra) if get_price(compra) > 100 else get_price(compra)\n",
    "\n",
    "# D. Una función que calcule el precio total aplicando el IVA (21%)\n",
    "def get_price_with_iva(compra):\n",
    "    return apply_discount(compra) + (apply_discount(compra) * 0.21)\n",
    "\n",
    "# E.lista los artículos cuyo precio es superior a 20€\n",
    "def items_over_twenty(compra):\n",
    "    result = []\n",
    "    for item in articulos:\n",
    "        if item in compra and articulos[item] > 20:\n",
    "            if list(filter(lambda x: x > 20, articulos.values())):\n",
    "                result.append(item + '(' + str(articulos[item]) + '€)')\n",
    "    return result\n",
    "\n",
    "print('Precio total:', get_price(compra),'€')\n",
    "print('Precio total con 10% descuento:', calculate_discount(compra),'€')\n",
    "print('Precio total con descuento si supera los 100€:', apply_discount(compra),'€')\n",
    "print('Precio total con IVA:', get_price_with_iva(compra),'€')\n",
    "print('Artículos cuyo precio es superior a 20€:', \", \".join((items_over_twenty(compra))))\n"
   ]
  },
  {
   "cell_type": "code",
   "execution_count": 20,
   "metadata": {},
   "outputs": [
    {
     "name": "stdout",
     "output_type": "stream",
     "text": [
      "Alumno: Juan Pérez\n",
      "Promedio: 7.0\n",
      "----------------------\n",
      "Alumno: Luis González\n",
      "Promedio: 7.0\n",
      "----------------------\n",
      "Alumno: Pedro Rodríguez\n",
      "Promedio: 7.0\n",
      "----------------------\n",
      "Alumno: Marta López\n",
      "Promedio: 7.0\n",
      "----------------------\n",
      "Alumno: Javier Sánchez\n",
      "Promedio: 7.0\n",
      "----------------------\n",
      "Alumno: Sergio Jiménez\n",
      "Promedio: 7.0\n",
      "----------------------\n",
      "Alumno: Pablo Álvarez\n",
      "Promedio: 7.0\n",
      "----------------------\n"
     ]
    }
   ],
   "source": [
    "'''\n",
    "14. Dada una lista de tuplas con el nombre de un alumno, apellidos, curso y sus notas. \n",
    "\n",
    " Define una funcion que reciba el curso y saque una lista en la que aparezca e nombre y apellidos y el promedio de sus notas.\n",
    " Puedes definir más funciones si lo consideras necesario.\n",
    "'''\n",
    "\n",
    "alumnos = [('Juan', 'Pérez', '1', [5, 6, 7, 8, 9]),\n",
    "            ('Ana', 'García', '2', [5, 6, 7, 8, 9]),\n",
    "            ('Luis', 'González', '1', [5, 6, 7, 8, 9]),\n",
    "            ('María', 'Martínez', '2', [5, 6, 7, 8, 9]),\n",
    "            ('Pedro', 'Rodríguez', '1', [5, 6, 7, 8, 9]),\n",
    "            ('Lucía', 'Hernández', '2', [5, 6, 7, 8, 9]),\n",
    "            ('Marta', 'López', '1', [5, 6, 7, 8, 9]),\n",
    "            ('Sara', 'Díaz', '2', [5, 6, 7, 8, 9]),\n",
    "            ('Javier', 'Sánchez', '1', [5, 6, 7, 8, 9]),\n",
    "            ('Miguel', 'Fernández', '2', [5, 6, 7, 8, 9]),\n",
    "            ('Sergio', 'Jiménez', '1', [5, 6, 7, 8, 9]),\n",
    "            ('Sandra', 'Ruiz', '2', [5, 6, 7, 8, 9]),\n",
    "            ('Pablo', 'Álvarez', '1', [5, 6, 7, 8, 9]),\n",
    "            ('María', 'Gómez', '2', [5, 6, 7, 8, 9]),\n",
    "]\n",
    "\n",
    "def get_class_info(curso):\n",
    "    return list(map(lambda x: (x[0], x[1], reduce(lambda x, y: x + y, x[3]) / len(x[3])), filter(lambda x: x[2] == curso, alumnos)))\n",
    "\n",
    "data = get_class_info('1')\n",
    "for item in data:\n",
    "    print(\"Alumno: \" + item[0] + \" \" + item[1] + \"\\nPromedio: \" + str(item[2]) + \"\\n----------------------\")"
   ]
  }
 ],
 "metadata": {
  "kernelspec": {
   "display_name": "Python 3.9.13 ('base')",
   "language": "python",
   "name": "python3"
  },
  "language_info": {
   "codemirror_mode": {
    "name": "ipython",
    "version": 3
   },
   "file_extension": ".py",
   "mimetype": "text/x-python",
   "name": "python",
   "nbconvert_exporter": "python",
   "pygments_lexer": "ipython3",
   "version": "3.9.13"
  },
  "orig_nbformat": 4,
  "vscode": {
   "interpreter": {
    "hash": "eb2c7f01ac094e6258bcdbc37a09e6689d39b105c4473ecaac10d08fb0bb7022"
   }
  }
 },
 "nbformat": 4,
 "nbformat_minor": 2
}
